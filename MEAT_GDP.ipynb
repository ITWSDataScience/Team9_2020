{
  "nbformat": 4,
  "nbformat_minor": 0,
  "metadata": {
    "colab": {
      "name": "MEAT_GDP.ipynb",
      "provenance": []
    },
    "kernelspec": {
      "name": "python3",
      "display_name": "Python 3",
      "language": "python"
    }
  },
  "cells": [
    {
      "cell_type": "code",
      "metadata": {
        "colab": {
          "base_uri": "https://localhost:8080/"
        },
        "id": "uHHKJ2nB9pFb",
        "outputId": "1cfa8316-8573-4897-f663-ce29c214bf8a"
      },
      "source": [
        "from google.colab import drive\n",
        "drive.mount('/content/drive')"
      ],
      "execution_count": 1,
      "outputs": [
        {
          "output_type": "error",
          "ename": "ModuleNotFoundError",
          "evalue": "No module named 'google'",
          "traceback": [
            "\u001b[0;31m---------------------------------------------------------------------------\u001b[0m",
            "\u001b[0;31mModuleNotFoundError\u001b[0m                       Traceback (most recent call last)",
            "\u001b[0;32m<ipython-input-1-d5df0069828e>\u001b[0m in \u001b[0;36m<module>\u001b[0;34m\u001b[0m\n\u001b[0;32m----> 1\u001b[0;31m \u001b[0;32mfrom\u001b[0m \u001b[0mgoogle\u001b[0m\u001b[0;34m.\u001b[0m\u001b[0mcolab\u001b[0m \u001b[0;32mimport\u001b[0m \u001b[0mdrive\u001b[0m\u001b[0;34m\u001b[0m\u001b[0;34m\u001b[0m\u001b[0m\n\u001b[0m\u001b[1;32m      2\u001b[0m \u001b[0mdrive\u001b[0m\u001b[0;34m.\u001b[0m\u001b[0mmount\u001b[0m\u001b[0;34m(\u001b[0m\u001b[0;34m'/content/drive'\u001b[0m\u001b[0;34m)\u001b[0m\u001b[0;34m\u001b[0m\u001b[0;34m\u001b[0m\u001b[0m\n",
            "\u001b[0;31mModuleNotFoundError\u001b[0m: No module named 'google'"
          ]
        }
      ]
    },
    {
      "cell_type": "code",
      "metadata": {
        "id": "yssCBQsY-YoV"
      },
      "source": [
        "import numpy as np\n",
        "import pandas as pd\n",
        "import matplotlib\n",
        "import matplotlib.pyplot as plt\n",
        "import seaborn as sns\n",
        "import plotly.express as px\n",
        "\n",
        "meat_train = pd.read_csv('/content/drive/My Drive/meat_consumption/meat_train.csv')\n",
        "meat_test = pd.read_csv('/content/drive/My Drive/meat_consumption/meat_test.csv')"
      ],
      "execution_count": null,
      "outputs": []
    },
    {
      "cell_type": "code",
      "metadata": {
        "colab": {
          "base_uri": "https://localhost:8080/"
        },
        "id": "P1HvWBHe_piH",
        "outputId": "44db633f-0ad3-491b-d8ce-31d9894df8a0"
      },
      "source": [
        "print(meat_train.columns)"
      ],
      "execution_count": null,
      "outputs": [
        {
          "output_type": "stream",
          "text": [
            "Index(['LOCATION', 'INDICATOR', 'SUBJECT', 'MEASURE', 'FREQUENCY', 'TIME',\n",
            "       'BEEF_VALUE', 'PIG_VALUE', 'SHEEP_VALUE', 'POULTRY_VALUE', 'GDP'],\n",
            "      dtype='object')\n"
          ],
          "name": "stdout"
        }
      ]
    },
    {
      "cell_type": "code",
      "metadata": {
        "id": "Uz4W9k_M_SQT"
      },
      "source": [
        "from sklearn.model_selection import train_test_split\n",
        "\n",
        "X = meat_train[['BEEF_VALUE', 'PIG_VALUE', 'SHEEP_VALUE', 'POULTRY_VALUE']]\n",
        "y = meat_train['GDP']\n",
        "train_X, test_X, train_y, test_y = train_test_split(X, y, random_state=100)\n",
        "\n"
      ],
      "execution_count": null,
      "outputs": []
    },
    {
      "cell_type": "code",
      "metadata": {
        "colab": {
          "base_uri": "https://localhost:8080/"
        },
        "id": "JkSwpl_b_MBv",
        "outputId": "381aeb00-2e3b-485d-ceab-a58b60db4b2c"
      },
      "source": [
        "#Model 2 is K- Nearest Neighbors\n",
        "from sklearn.neighbors import KNeighborsClassifier\n",
        "from sklearn import metrics\n",
        "classifier = KNeighborsClassifier(n_neighbors=10, weights = 'distance' , algorithm= 'kd_tree')\n",
        "classifier.fit(train_X, train_y)\n",
        "\n",
        "#The AUS was selected to compare with the Test dataset to test the accuracy of model predictions.\n",
        "\n",
        "test_value = meat_test[0:1] \n",
        "test_val = test_value[['BEEF_VALUE', 'PIG_VALUE', 'SHEEP_VALUE', 'POULTRY_VALUE']]\n",
        "test_values = test_value[['LOCATION', 'INDICATOR', 'MEASURE', 'FREQUENCY', 'TIME','BEEF_VALUE', 'PIG_VALUE', 'SHEEP_VALUE', 'POULTRY_VALUE']]\n",
        "print(test_val)\n",
        "\n",
        "knn0_predict_y = classifier.predict(test_val)\n",
        "\n",
        "knn0_train_y = classifier.predict(train_X)                         ##Using whole dataset to predict.\n",
        "knn0_test_y = classifier.predict(test_X)\n",
        "knn0_train_accuracy = metrics.accuracy_score(train_y, knn0_train_y)\n",
        "knn0_test_accuracy = metrics.accuracy_score(test_y, knn0_test_y)\n",
        "knn0_test_mse = metrics.mean_squared_error(test_y,knn0_test_y)\n",
        "print(\"The predicting GDP of AUS is\", int(knn0_predict_y))\n",
        "print(\"The true GDP of AUS is\", meat_train.at[0,'GDP'])\n",
        "print(\"The Mean Squared Error of K- Nearest Neighbors model is \",knn0_test_mse)"
      ],
      "execution_count": null,
      "outputs": [
        {
          "output_type": "stream",
          "text": [
            "   BEEF_VALUE  PIG_VALUE  SHEEP_VALUE  POULTRY_VALUE\n",
            "0    18.30612  22.285627     7.209028      44.767404\n",
            "The predicting GDP of AUS is 282318\n",
            "The true GDP of AUS is 1392681\n",
            "The Mean Squared Error of K- Nearest Neighbors model is  891318166381529.2\n"
          ],
          "name": "stdout"
        }
      ]
    },
    {
      "cell_type": "code",
      "metadata": {
        "colab": {
          "base_uri": "https://localhost:8080/"
        },
        "id": "9AmihLTBB3Ah",
        "outputId": "a395491b-7278-4993-c53a-792215d54ce9"
      },
      "source": [
        "#Model 3 is LogisticRegression\n",
        "from sklearn.linear_model import LogisticRegression\n",
        "\n",
        "lr_model= LogisticRegression(C = 1.0,penalty = 'l2',max_iter=5000)\n",
        "lr_model.fit(train_X,train_y)\n",
        "\n",
        "#The AUS was selected to compare with the Test dataset to test the accuracy of model predictions.\n",
        "lr_predict_y = lr_model.predict(test_val)\n",
        "\n",
        "lr_train_y = lr_model.predict(train_X)                     ##Using whole dataset to predict.\n",
        "lr_test_y = lr_model.predict(test_X)\n",
        "lr_train_accuracy = metrics.accuracy_score(train_y, lr_train_y)\n",
        "lr_test_accuracy = metrics.accuracy_score(test_y, lr_test_y)\n",
        "lr_test_mse = metrics.mean_squared_error(test_y,lr_test_y)\n",
        "print(\"The predicting GDP of AUS is\", int(lr_predict_y))\n",
        "print(\"The true GDP of AUS is\", meat_train.at[0,'GDP'])\n",
        "print(\"The Mean Squared Error of LogisticRegression model is \",lr_test_mse)"
      ],
      "execution_count": null,
      "outputs": [
        {
          "output_type": "stream",
          "text": [
            "The predicting GDP of AUS is 282318\n",
            "The true GDP of AUS is 1392681\n",
            "The Mean Squared Error of LogisticRegression model is  809710036255932.8\n"
          ],
          "name": "stdout"
        }
      ]
    },
    {
      "cell_type": "code",
      "metadata": {
        "colab": {
          "base_uri": "https://localhost:8080/"
        },
        "id": "zoZVdt7zBVtv",
        "outputId": "4e6068bb-047d-49f7-b2c4-d5ae69479af1"
      },
      "source": [
        "#Model 3 is RandomForest\n",
        "from sklearn.ensemble import RandomForestClassifier\n",
        "\n",
        "ran_model = RandomForestClassifier()\n",
        "ran_model.fit(train_X,train_y)\n",
        "\n",
        "#The AUS was selected to compare with the Test dataset to test the accuracy of model predictions.\n",
        "ran_predict_y = ran_model.predict(test_val)\n",
        "\n",
        "ran_train_y = ran_model.predict(train_X)                     ##Using whole dataset to predict.\n",
        "ran_test_y = ran_model.predict(test_X)\n",
        "ran_train_accuracy = metrics.accuracy_score(train_y, ran_train_y)\n",
        "ran_test_accuracy = metrics.accuracy_score(test_y, ran_test_y)\n",
        "ran_test_mse = metrics.mean_squared_error(test_y,ran_test_y)\n",
        "print(\"The predicting GDP of AUS is\", int(ran_predict_y))\n",
        "print(\"The true GDP of AUS is\", meat_train.at[0,'GDP'])\n",
        "print(\"The Mean Squared Error of Random Forest model is \",ran_test_mse)"
      ],
      "execution_count": null,
      "outputs": [
        {
          "output_type": "stream",
          "text": [
            "The predicting GDP of AUS is 703082\n",
            "The true GDP of AUS is 1392681\n",
            "The Mean Squared Error of Random Forest model is  894570143396705.0\n"
          ],
          "name": "stdout"
        }
      ]
    }
  ]
}