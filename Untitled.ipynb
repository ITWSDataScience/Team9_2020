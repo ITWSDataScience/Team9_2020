{
 "cells": [
  {
   "cell_type": "code",
   "execution_count": 2,
   "metadata": {},
   "outputs": [],
   "source": [
    "import pandas as pd\n",
    "import json"
   ]
  },
  {
   "cell_type": "code",
   "execution_count": 3,
   "metadata": {},
   "outputs": [],
   "source": [
    "meat_consumption = pd.read_csv('meat_consumption.csv')\n",
    "population = pd.read_csv('WPP2019_TotalPopulationBySex.csv')"
   ]
  },
  {
   "cell_type": "code",
   "execution_count": 4,
   "metadata": {},
   "outputs": [],
   "source": [
    "pop = population[(population['Time'] == 2020) & (population['Variant'] == 'Medium')]"
   ]
  },
  {
   "cell_type": "code",
   "execution_count": 5,
   "metadata": {},
   "outputs": [],
   "source": [
    "meat = meat_consumption[(meat_consumption['SUBJECT'] == 'BEEF') & (meat_consumption['TIME']==2020) & (meat_consumption['MEASURE']=='KG_CAP')]\n",
    "\n",
    "\n"
   ]
  },
  {
   "cell_type": "code",
   "execution_count": 6,
   "metadata": {},
   "outputs": [],
   "source": [
    "f = open('country-codes.json')\n",
    "js = json.load(f)\n",
    "code = {}\n",
    "for i in js:\n",
    "    code[i['Alpha-3 code']] = i['English short name lower case'].lower()"
   ]
  },
  {
   "cell_type": "code",
   "execution_count": 52,
   "metadata": {},
   "outputs": [
    {
     "data": {
      "text/html": [
       "<div>\n",
       "<style scoped>\n",
       "    .dataframe tbody tr th:only-of-type {\n",
       "        vertical-align: middle;\n",
       "    }\n",
       "\n",
       "    .dataframe tbody tr th {\n",
       "        vertical-align: top;\n",
       "    }\n",
       "\n",
       "    .dataframe thead th {\n",
       "        text-align: right;\n",
       "    }\n",
       "</style>\n",
       "<table border=\"1\" class=\"dataframe\">\n",
       "  <thead>\n",
       "    <tr style=\"text-align: right;\">\n",
       "      <th></th>\n",
       "      <th>LOCATION</th>\n",
       "      <th>INDICATOR</th>\n",
       "      <th>SUBJECT</th>\n",
       "      <th>MEASURE</th>\n",
       "      <th>FREQUENCY</th>\n",
       "      <th>TIME</th>\n",
       "      <th>Value</th>\n",
       "      <th>Flag Codes</th>\n",
       "    </tr>\n",
       "  </thead>\n",
       "  <tbody>\n",
       "    <tr>\n",
       "      <td>30</td>\n",
       "      <td>AUS</td>\n",
       "      <td>MEATCONSUMP</td>\n",
       "      <td>BEEF</td>\n",
       "      <td>KG_CAP</td>\n",
       "      <td>A</td>\n",
       "      <td>2020</td>\n",
       "      <td>16.742472</td>\n",
       "      <td>NaN</td>\n",
       "    </tr>\n",
       "    <tr>\n",
       "      <td>186</td>\n",
       "      <td>CAN</td>\n",
       "      <td>MEATCONSUMP</td>\n",
       "      <td>BEEF</td>\n",
       "      <td>KG_CAP</td>\n",
       "      <td>A</td>\n",
       "      <td>2020</td>\n",
       "      <td>17.369592</td>\n",
       "      <td>NaN</td>\n",
       "    </tr>\n",
       "    <tr>\n",
       "      <td>342</td>\n",
       "      <td>JPN</td>\n",
       "      <td>MEATCONSUMP</td>\n",
       "      <td>BEEF</td>\n",
       "      <td>KG_CAP</td>\n",
       "      <td>A</td>\n",
       "      <td>2020</td>\n",
       "      <td>7.476899</td>\n",
       "      <td>NaN</td>\n",
       "    </tr>\n",
       "    <tr>\n",
       "      <td>498</td>\n",
       "      <td>KOR</td>\n",
       "      <td>MEATCONSUMP</td>\n",
       "      <td>BEEF</td>\n",
       "      <td>KG_CAP</td>\n",
       "      <td>A</td>\n",
       "      <td>2020</td>\n",
       "      <td>11.108849</td>\n",
       "      <td>NaN</td>\n",
       "    </tr>\n",
       "    <tr>\n",
       "      <td>654</td>\n",
       "      <td>MEX</td>\n",
       "      <td>MEATCONSUMP</td>\n",
       "      <td>BEEF</td>\n",
       "      <td>KG_CAP</td>\n",
       "      <td>A</td>\n",
       "      <td>2020</td>\n",
       "      <td>8.730852</td>\n",
       "      <td>NaN</td>\n",
       "    </tr>\n",
       "    <tr>\n",
       "      <td>810</td>\n",
       "      <td>NZL</td>\n",
       "      <td>MEATCONSUMP</td>\n",
       "      <td>BEEF</td>\n",
       "      <td>KG_CAP</td>\n",
       "      <td>A</td>\n",
       "      <td>2020</td>\n",
       "      <td>11.759487</td>\n",
       "      <td>NaN</td>\n",
       "    </tr>\n",
       "    <tr>\n",
       "      <td>966</td>\n",
       "      <td>TUR</td>\n",
       "      <td>MEATCONSUMP</td>\n",
       "      <td>BEEF</td>\n",
       "      <td>KG_CAP</td>\n",
       "      <td>A</td>\n",
       "      <td>2020</td>\n",
       "      <td>8.749995</td>\n",
       "      <td>NaN</td>\n",
       "    </tr>\n",
       "    <tr>\n",
       "      <td>1122</td>\n",
       "      <td>USA</td>\n",
       "      <td>MEATCONSUMP</td>\n",
       "      <td>BEEF</td>\n",
       "      <td>KG_CAP</td>\n",
       "      <td>A</td>\n",
       "      <td>2020</td>\n",
       "      <td>27.209727</td>\n",
       "      <td>NaN</td>\n",
       "    </tr>\n",
       "    <tr>\n",
       "      <td>1278</td>\n",
       "      <td>ARG</td>\n",
       "      <td>MEATCONSUMP</td>\n",
       "      <td>BEEF</td>\n",
       "      <td>KG_CAP</td>\n",
       "      <td>A</td>\n",
       "      <td>2020</td>\n",
       "      <td>39.712606</td>\n",
       "      <td>NaN</td>\n",
       "    </tr>\n",
       "    <tr>\n",
       "      <td>1434</td>\n",
       "      <td>BRA</td>\n",
       "      <td>MEATCONSUMP</td>\n",
       "      <td>BEEF</td>\n",
       "      <td>KG_CAP</td>\n",
       "      <td>A</td>\n",
       "      <td>2020</td>\n",
       "      <td>24.792208</td>\n",
       "      <td>NaN</td>\n",
       "    </tr>\n",
       "    <tr>\n",
       "      <td>1590</td>\n",
       "      <td>CHL</td>\n",
       "      <td>MEATCONSUMP</td>\n",
       "      <td>BEEF</td>\n",
       "      <td>KG_CAP</td>\n",
       "      <td>A</td>\n",
       "      <td>2020</td>\n",
       "      <td>19.093536</td>\n",
       "      <td>NaN</td>\n",
       "    </tr>\n",
       "    <tr>\n",
       "      <td>1746</td>\n",
       "      <td>CHN</td>\n",
       "      <td>MEATCONSUMP</td>\n",
       "      <td>BEEF</td>\n",
       "      <td>KG_CAP</td>\n",
       "      <td>A</td>\n",
       "      <td>2020</td>\n",
       "      <td>3.849468</td>\n",
       "      <td>NaN</td>\n",
       "    </tr>\n",
       "    <tr>\n",
       "      <td>1902</td>\n",
       "      <td>COL</td>\n",
       "      <td>MEATCONSUMP</td>\n",
       "      <td>BEEF</td>\n",
       "      <td>KG_CAP</td>\n",
       "      <td>A</td>\n",
       "      <td>2020</td>\n",
       "      <td>10.886427</td>\n",
       "      <td>NaN</td>\n",
       "    </tr>\n",
       "    <tr>\n",
       "      <td>2058</td>\n",
       "      <td>EGY</td>\n",
       "      <td>MEATCONSUMP</td>\n",
       "      <td>BEEF</td>\n",
       "      <td>KG_CAP</td>\n",
       "      <td>A</td>\n",
       "      <td>2020</td>\n",
       "      <td>8.300384</td>\n",
       "      <td>NaN</td>\n",
       "    </tr>\n",
       "    <tr>\n",
       "      <td>2211</td>\n",
       "      <td>ETH</td>\n",
       "      <td>MEATCONSUMP</td>\n",
       "      <td>BEEF</td>\n",
       "      <td>KG_CAP</td>\n",
       "      <td>A</td>\n",
       "      <td>2020</td>\n",
       "      <td>2.546040</td>\n",
       "      <td>NaN</td>\n",
       "    </tr>\n",
       "    <tr>\n",
       "      <td>2358</td>\n",
       "      <td>IND</td>\n",
       "      <td>MEATCONSUMP</td>\n",
       "      <td>BEEF</td>\n",
       "      <td>KG_CAP</td>\n",
       "      <td>A</td>\n",
       "      <td>2020</td>\n",
       "      <td>0.535302</td>\n",
       "      <td>NaN</td>\n",
       "    </tr>\n",
       "    <tr>\n",
       "      <td>2514</td>\n",
       "      <td>IDN</td>\n",
       "      <td>MEATCONSUMP</td>\n",
       "      <td>BEEF</td>\n",
       "      <td>KG_CAP</td>\n",
       "      <td>A</td>\n",
       "      <td>2020</td>\n",
       "      <td>2.014762</td>\n",
       "      <td>NaN</td>\n",
       "    </tr>\n",
       "    <tr>\n",
       "      <td>2670</td>\n",
       "      <td>IRN</td>\n",
       "      <td>MEATCONSUMP</td>\n",
       "      <td>BEEF</td>\n",
       "      <td>KG_CAP</td>\n",
       "      <td>A</td>\n",
       "      <td>2020</td>\n",
       "      <td>5.364417</td>\n",
       "      <td>NaN</td>\n",
       "    </tr>\n",
       "    <tr>\n",
       "      <td>2826</td>\n",
       "      <td>ISR</td>\n",
       "      <td>MEATCONSUMP</td>\n",
       "      <td>BEEF</td>\n",
       "      <td>KG_CAP</td>\n",
       "      <td>A</td>\n",
       "      <td>2020</td>\n",
       "      <td>20.332877</td>\n",
       "      <td>NaN</td>\n",
       "    </tr>\n",
       "    <tr>\n",
       "      <td>2980</td>\n",
       "      <td>KAZ</td>\n",
       "      <td>MEATCONSUMP</td>\n",
       "      <td>BEEF</td>\n",
       "      <td>KG_CAP</td>\n",
       "      <td>A</td>\n",
       "      <td>2020</td>\n",
       "      <td>19.725995</td>\n",
       "      <td>NaN</td>\n",
       "    </tr>\n",
       "    <tr>\n",
       "      <td>3130</td>\n",
       "      <td>MYS</td>\n",
       "      <td>MEATCONSUMP</td>\n",
       "      <td>BEEF</td>\n",
       "      <td>KG_CAP</td>\n",
       "      <td>A</td>\n",
       "      <td>2020</td>\n",
       "      <td>5.422337</td>\n",
       "      <td>NaN</td>\n",
       "    </tr>\n",
       "    <tr>\n",
       "      <td>3286</td>\n",
       "      <td>NGA</td>\n",
       "      <td>MEATCONSUMP</td>\n",
       "      <td>BEEF</td>\n",
       "      <td>KG_CAP</td>\n",
       "      <td>A</td>\n",
       "      <td>2020</td>\n",
       "      <td>1.345715</td>\n",
       "      <td>NaN</td>\n",
       "    </tr>\n",
       "    <tr>\n",
       "      <td>3442</td>\n",
       "      <td>PAK</td>\n",
       "      <td>MEATCONSUMP</td>\n",
       "      <td>BEEF</td>\n",
       "      <td>KG_CAP</td>\n",
       "      <td>A</td>\n",
       "      <td>2020</td>\n",
       "      <td>6.490584</td>\n",
       "      <td>NaN</td>\n",
       "    </tr>\n",
       "    <tr>\n",
       "      <td>3598</td>\n",
       "      <td>PRY</td>\n",
       "      <td>MEATCONSUMP</td>\n",
       "      <td>BEEF</td>\n",
       "      <td>KG_CAP</td>\n",
       "      <td>A</td>\n",
       "      <td>2020</td>\n",
       "      <td>13.729708</td>\n",
       "      <td>NaN</td>\n",
       "    </tr>\n",
       "    <tr>\n",
       "      <td>3754</td>\n",
       "      <td>PER</td>\n",
       "      <td>MEATCONSUMP</td>\n",
       "      <td>BEEF</td>\n",
       "      <td>KG_CAP</td>\n",
       "      <td>A</td>\n",
       "      <td>2020</td>\n",
       "      <td>4.176204</td>\n",
       "      <td>NaN</td>\n",
       "    </tr>\n",
       "    <tr>\n",
       "      <td>3910</td>\n",
       "      <td>PHL</td>\n",
       "      <td>MEATCONSUMP</td>\n",
       "      <td>BEEF</td>\n",
       "      <td>KG_CAP</td>\n",
       "      <td>A</td>\n",
       "      <td>2020</td>\n",
       "      <td>3.145185</td>\n",
       "      <td>NaN</td>\n",
       "    </tr>\n",
       "    <tr>\n",
       "      <td>4066</td>\n",
       "      <td>RUS</td>\n",
       "      <td>MEATCONSUMP</td>\n",
       "      <td>BEEF</td>\n",
       "      <td>KG_CAP</td>\n",
       "      <td>A</td>\n",
       "      <td>2020</td>\n",
       "      <td>10.259919</td>\n",
       "      <td>NaN</td>\n",
       "    </tr>\n",
       "    <tr>\n",
       "      <td>4222</td>\n",
       "      <td>SAU</td>\n",
       "      <td>MEATCONSUMP</td>\n",
       "      <td>BEEF</td>\n",
       "      <td>KG_CAP</td>\n",
       "      <td>A</td>\n",
       "      <td>2020</td>\n",
       "      <td>4.054398</td>\n",
       "      <td>NaN</td>\n",
       "    </tr>\n",
       "    <tr>\n",
       "      <td>4378</td>\n",
       "      <td>ZAF</td>\n",
       "      <td>MEATCONSUMP</td>\n",
       "      <td>BEEF</td>\n",
       "      <td>KG_CAP</td>\n",
       "      <td>A</td>\n",
       "      <td>2020</td>\n",
       "      <td>12.614678</td>\n",
       "      <td>NaN</td>\n",
       "    </tr>\n",
       "    <tr>\n",
       "      <td>4534</td>\n",
       "      <td>THA</td>\n",
       "      <td>MEATCONSUMP</td>\n",
       "      <td>BEEF</td>\n",
       "      <td>KG_CAP</td>\n",
       "      <td>A</td>\n",
       "      <td>2020</td>\n",
       "      <td>1.327261</td>\n",
       "      <td>NaN</td>\n",
       "    </tr>\n",
       "    <tr>\n",
       "      <td>4688</td>\n",
       "      <td>UKR</td>\n",
       "      <td>MEATCONSUMP</td>\n",
       "      <td>BEEF</td>\n",
       "      <td>KG_CAP</td>\n",
       "      <td>A</td>\n",
       "      <td>2020</td>\n",
       "      <td>5.032841</td>\n",
       "      <td>NaN</td>\n",
       "    </tr>\n",
       "    <tr>\n",
       "      <td>4838</td>\n",
       "      <td>VNM</td>\n",
       "      <td>MEATCONSUMP</td>\n",
       "      <td>BEEF</td>\n",
       "      <td>KG_CAP</td>\n",
       "      <td>A</td>\n",
       "      <td>2020</td>\n",
       "      <td>9.727801</td>\n",
       "      <td>NaN</td>\n",
       "    </tr>\n",
       "    <tr>\n",
       "      <td>4994</td>\n",
       "      <td>WLD</td>\n",
       "      <td>MEATCONSUMP</td>\n",
       "      <td>BEEF</td>\n",
       "      <td>KG_CAP</td>\n",
       "      <td>A</td>\n",
       "      <td>2020</td>\n",
       "      <td>6.458737</td>\n",
       "      <td>NaN</td>\n",
       "    </tr>\n",
       "    <tr>\n",
       "      <td>5150</td>\n",
       "      <td>EU27</td>\n",
       "      <td>MEATCONSUMP</td>\n",
       "      <td>BEEF</td>\n",
       "      <td>KG_CAP</td>\n",
       "      <td>A</td>\n",
       "      <td>2020</td>\n",
       "      <td>10.620987</td>\n",
       "      <td>NaN</td>\n",
       "    </tr>\n",
       "    <tr>\n",
       "      <td>5306</td>\n",
       "      <td>OECD</td>\n",
       "      <td>MEATCONSUMP</td>\n",
       "      <td>BEEF</td>\n",
       "      <td>KG_CAP</td>\n",
       "      <td>A</td>\n",
       "      <td>2020</td>\n",
       "      <td>14.688561</td>\n",
       "      <td>NaN</td>\n",
       "    </tr>\n",
       "    <tr>\n",
       "      <td>5462</td>\n",
       "      <td>BRICS</td>\n",
       "      <td>MEATCONSUMP</td>\n",
       "      <td>BEEF</td>\n",
       "      <td>KG_CAP</td>\n",
       "      <td>A</td>\n",
       "      <td>2020</td>\n",
       "      <td>4.262348</td>\n",
       "      <td>NaN</td>\n",
       "    </tr>\n",
       "    <tr>\n",
       "      <td>11390</td>\n",
       "      <td>NOR</td>\n",
       "      <td>MEATCONSUMP</td>\n",
       "      <td>BEEF</td>\n",
       "      <td>KG_CAP</td>\n",
       "      <td>A</td>\n",
       "      <td>2020</td>\n",
       "      <td>13.608593</td>\n",
       "      <td>NaN</td>\n",
       "    </tr>\n",
       "    <tr>\n",
       "      <td>11546</td>\n",
       "      <td>CHE</td>\n",
       "      <td>MEATCONSUMP</td>\n",
       "      <td>BEEF</td>\n",
       "      <td>KG_CAP</td>\n",
       "      <td>A</td>\n",
       "      <td>2020</td>\n",
       "      <td>13.171528</td>\n",
       "      <td>NaN</td>\n",
       "    </tr>\n",
       "    <tr>\n",
       "      <td>11858</td>\n",
       "      <td>GBR</td>\n",
       "      <td>MEATCONSUMP</td>\n",
       "      <td>BEEF</td>\n",
       "      <td>KG_CAP</td>\n",
       "      <td>A</td>\n",
       "      <td>2020</td>\n",
       "      <td>11.662210</td>\n",
       "      <td>NaN</td>\n",
       "    </tr>\n",
       "  </tbody>\n",
       "</table>\n",
       "</div>"
      ],
      "text/plain": [
       "      LOCATION    INDICATOR SUBJECT MEASURE FREQUENCY  TIME      Value  \\\n",
       "30         AUS  MEATCONSUMP    BEEF  KG_CAP         A  2020  16.742472   \n",
       "186        CAN  MEATCONSUMP    BEEF  KG_CAP         A  2020  17.369592   \n",
       "342        JPN  MEATCONSUMP    BEEF  KG_CAP         A  2020   7.476899   \n",
       "498        KOR  MEATCONSUMP    BEEF  KG_CAP         A  2020  11.108849   \n",
       "654        MEX  MEATCONSUMP    BEEF  KG_CAP         A  2020   8.730852   \n",
       "810        NZL  MEATCONSUMP    BEEF  KG_CAP         A  2020  11.759487   \n",
       "966        TUR  MEATCONSUMP    BEEF  KG_CAP         A  2020   8.749995   \n",
       "1122       USA  MEATCONSUMP    BEEF  KG_CAP         A  2020  27.209727   \n",
       "1278       ARG  MEATCONSUMP    BEEF  KG_CAP         A  2020  39.712606   \n",
       "1434       BRA  MEATCONSUMP    BEEF  KG_CAP         A  2020  24.792208   \n",
       "1590       CHL  MEATCONSUMP    BEEF  KG_CAP         A  2020  19.093536   \n",
       "1746       CHN  MEATCONSUMP    BEEF  KG_CAP         A  2020   3.849468   \n",
       "1902       COL  MEATCONSUMP    BEEF  KG_CAP         A  2020  10.886427   \n",
       "2058       EGY  MEATCONSUMP    BEEF  KG_CAP         A  2020   8.300384   \n",
       "2211       ETH  MEATCONSUMP    BEEF  KG_CAP         A  2020   2.546040   \n",
       "2358       IND  MEATCONSUMP    BEEF  KG_CAP         A  2020   0.535302   \n",
       "2514       IDN  MEATCONSUMP    BEEF  KG_CAP         A  2020   2.014762   \n",
       "2670       IRN  MEATCONSUMP    BEEF  KG_CAP         A  2020   5.364417   \n",
       "2826       ISR  MEATCONSUMP    BEEF  KG_CAP         A  2020  20.332877   \n",
       "2980       KAZ  MEATCONSUMP    BEEF  KG_CAP         A  2020  19.725995   \n",
       "3130       MYS  MEATCONSUMP    BEEF  KG_CAP         A  2020   5.422337   \n",
       "3286       NGA  MEATCONSUMP    BEEF  KG_CAP         A  2020   1.345715   \n",
       "3442       PAK  MEATCONSUMP    BEEF  KG_CAP         A  2020   6.490584   \n",
       "3598       PRY  MEATCONSUMP    BEEF  KG_CAP         A  2020  13.729708   \n",
       "3754       PER  MEATCONSUMP    BEEF  KG_CAP         A  2020   4.176204   \n",
       "3910       PHL  MEATCONSUMP    BEEF  KG_CAP         A  2020   3.145185   \n",
       "4066       RUS  MEATCONSUMP    BEEF  KG_CAP         A  2020  10.259919   \n",
       "4222       SAU  MEATCONSUMP    BEEF  KG_CAP         A  2020   4.054398   \n",
       "4378       ZAF  MEATCONSUMP    BEEF  KG_CAP         A  2020  12.614678   \n",
       "4534       THA  MEATCONSUMP    BEEF  KG_CAP         A  2020   1.327261   \n",
       "4688       UKR  MEATCONSUMP    BEEF  KG_CAP         A  2020   5.032841   \n",
       "4838       VNM  MEATCONSUMP    BEEF  KG_CAP         A  2020   9.727801   \n",
       "4994       WLD  MEATCONSUMP    BEEF  KG_CAP         A  2020   6.458737   \n",
       "5150      EU27  MEATCONSUMP    BEEF  KG_CAP         A  2020  10.620987   \n",
       "5306      OECD  MEATCONSUMP    BEEF  KG_CAP         A  2020  14.688561   \n",
       "5462     BRICS  MEATCONSUMP    BEEF  KG_CAP         A  2020   4.262348   \n",
       "11390      NOR  MEATCONSUMP    BEEF  KG_CAP         A  2020  13.608593   \n",
       "11546      CHE  MEATCONSUMP    BEEF  KG_CAP         A  2020  13.171528   \n",
       "11858      GBR  MEATCONSUMP    BEEF  KG_CAP         A  2020  11.662210   \n",
       "\n",
       "       Flag Codes  \n",
       "30            NaN  \n",
       "186           NaN  \n",
       "342           NaN  \n",
       "498           NaN  \n",
       "654           NaN  \n",
       "810           NaN  \n",
       "966           NaN  \n",
       "1122          NaN  \n",
       "1278          NaN  \n",
       "1434          NaN  \n",
       "1590          NaN  \n",
       "1746          NaN  \n",
       "1902          NaN  \n",
       "2058          NaN  \n",
       "2211          NaN  \n",
       "2358          NaN  \n",
       "2514          NaN  \n",
       "2670          NaN  \n",
       "2826          NaN  \n",
       "2980          NaN  \n",
       "3130          NaN  \n",
       "3286          NaN  \n",
       "3442          NaN  \n",
       "3598          NaN  \n",
       "3754          NaN  \n",
       "3910          NaN  \n",
       "4066          NaN  \n",
       "4222          NaN  \n",
       "4378          NaN  \n",
       "4534          NaN  \n",
       "4688          NaN  \n",
       "4838          NaN  \n",
       "4994          NaN  \n",
       "5150          NaN  \n",
       "5306          NaN  \n",
       "5462          NaN  \n",
       "11390         NaN  \n",
       "11546         NaN  \n",
       "11858         NaN  "
      ]
     },
     "execution_count": 52,
     "metadata": {},
     "output_type": "execute_result"
    }
   ],
   "source": [
    "meat"
   ]
  },
  {
   "cell_type": "code",
   "execution_count": 24,
   "metadata": {},
   "outputs": [],
   "source": [
    "lst = []\n",
    "p = {}\n",
    "for i in pop.iterrows():\n",
    "    p[i[1][1].lower()] = float((i[1][8]))\n",
    "for i in meat.iterrows():\n",
    "    if i[1][0] in code and code[i[1][0]] in p:\n",
    "        #print(code[i[1][0]], p[code[i[1][0]]],float(i[1][6]))\n",
    "        #lst.append([i[1][0], code[i[1][0]], float(i[1][6])*10000/p[code[i[1][0]]]] )\n",
    "        lst.append([i[1][0], code[i[1][0]], float(i[1][6])])\n",
    "avg_df = pd.DataFrame(lst,columns=['code','country','average_consumption'])"
   ]
  },
  {
   "cell_type": "code",
   "execution_count": 25,
   "metadata": {},
   "outputs": [
    {
     "output_type": "display_data",
     "data": {
      "application/vnd.plotly.v1+json": {
       "config": {
        "plotlyServerURL": "https://plot.ly"
       },
       "data": [
        {
         "alignmentgroup": "True",
         "bingroup": "x",
         "histfunc": "sum",
         "hovertemplate": "country=%{x}<br>sum of average_consumption=%{y}<extra></extra>",
         "legendgroup": "",
         "marker": {
          "color": "#636efa"
         },
         "name": "",
         "offsetgroup": "",
         "orientation": "v",
         "showlegend": false,
         "type": "histogram",
         "x": [
          "australia",
          "canada",
          "japan",
          "mexico",
          "new zealand",
          "turkey",
          "argentina",
          "brazil",
          "chile",
          "china",
          "colombia",
          "egypt",
          "ethiopia",
          "india",
          "indonesia",
          "israel",
          "kazakhstan",
          "malaysia",
          "nigeria",
          "pakistan",
          "paraguay",
          "peru",
          "philippines",
          "russian federation",
          "saudi arabia",
          "south africa",
          "thailand",
          "ukraine",
          "viet nam",
          "norway",
          "switzerland",
          "united kingdom"
         ],
         "xaxis": "x",
         "y": [
          16.742471554166,
          17.3695920800645,
          7.47689948111396,
          8.73085238072356,
          11.759486604242198,
          8.74999523369617,
          39.712605573572,
          24.792207683902102,
          19.093535667153002,
          3.8494679350270498,
          10.8864268211505,
          8.300383587860559,
          2.54604013306794,
          0.535302412193296,
          2.0147616551088796,
          20.3328773494632,
          19.7259950174568,
          5.422336914886331,
          1.34571493621286,
          6.490584495203481,
          13.729708241816699,
          4.17620406902685,
          3.14518456506572,
          10.259918878371801,
          4.05439754849769,
          12.6146778451448,
          1.32726127103316,
          5.0328413953979405,
          9.7278010815396,
          13.6085932170103,
          13.171527584744402,
          11.662210300757199
         ],
         "yaxis": "y"
        }
       ],
       "layout": {
        "barmode": "relative",
        "legend": {
         "tracegroupgap": 0
        },
        "margin": {
         "t": 60
        },
        "template": {
         "data": {
          "bar": [
           {
            "error_x": {
             "color": "#2a3f5f"
            },
            "error_y": {
             "color": "#2a3f5f"
            },
            "marker": {
             "line": {
              "color": "#E5ECF6",
              "width": 0.5
             }
            },
            "type": "bar"
           }
          ],
          "barpolar": [
           {
            "marker": {
             "line": {
              "color": "#E5ECF6",
              "width": 0.5
             }
            },
            "type": "barpolar"
           }
          ],
          "carpet": [
           {
            "aaxis": {
             "endlinecolor": "#2a3f5f",
             "gridcolor": "white",
             "linecolor": "white",
             "minorgridcolor": "white",
             "startlinecolor": "#2a3f5f"
            },
            "baxis": {
             "endlinecolor": "#2a3f5f",
             "gridcolor": "white",
             "linecolor": "white",
             "minorgridcolor": "white",
             "startlinecolor": "#2a3f5f"
            },
            "type": "carpet"
           }
          ],
          "choropleth": [
           {
            "colorbar": {
             "outlinewidth": 0,
             "ticks": ""
            },
            "type": "choropleth"
           }
          ],
          "contour": [
           {
            "colorbar": {
             "outlinewidth": 0,
             "ticks": ""
            },
            "colorscale": [
             [
              0,
              "#0d0887"
             ],
             [
              0.1111111111111111,
              "#46039f"
             ],
             [
              0.2222222222222222,
              "#7201a8"
             ],
             [
              0.3333333333333333,
              "#9c179e"
             ],
             [
              0.4444444444444444,
              "#bd3786"
             ],
             [
              0.5555555555555556,
              "#d8576b"
             ],
             [
              0.6666666666666666,
              "#ed7953"
             ],
             [
              0.7777777777777778,
              "#fb9f3a"
             ],
             [
              0.8888888888888888,
              "#fdca26"
             ],
             [
              1,
              "#f0f921"
             ]
            ],
            "type": "contour"
           }
          ],
          "contourcarpet": [
           {
            "colorbar": {
             "outlinewidth": 0,
             "ticks": ""
            },
            "type": "contourcarpet"
           }
          ],
          "heatmap": [
           {
            "colorbar": {
             "outlinewidth": 0,
             "ticks": ""
            },
            "colorscale": [
             [
              0,
              "#0d0887"
             ],
             [
              0.1111111111111111,
              "#46039f"
             ],
             [
              0.2222222222222222,
              "#7201a8"
             ],
             [
              0.3333333333333333,
              "#9c179e"
             ],
             [
              0.4444444444444444,
              "#bd3786"
             ],
             [
              0.5555555555555556,
              "#d8576b"
             ],
             [
              0.6666666666666666,
              "#ed7953"
             ],
             [
              0.7777777777777778,
              "#fb9f3a"
             ],
             [
              0.8888888888888888,
              "#fdca26"
             ],
             [
              1,
              "#f0f921"
             ]
            ],
            "type": "heatmap"
           }
          ],
          "heatmapgl": [
           {
            "colorbar": {
             "outlinewidth": 0,
             "ticks": ""
            },
            "colorscale": [
             [
              0,
              "#0d0887"
             ],
             [
              0.1111111111111111,
              "#46039f"
             ],
             [
              0.2222222222222222,
              "#7201a8"
             ],
             [
              0.3333333333333333,
              "#9c179e"
             ],
             [
              0.4444444444444444,
              "#bd3786"
             ],
             [
              0.5555555555555556,
              "#d8576b"
             ],
             [
              0.6666666666666666,
              "#ed7953"
             ],
             [
              0.7777777777777778,
              "#fb9f3a"
             ],
             [
              0.8888888888888888,
              "#fdca26"
             ],
             [
              1,
              "#f0f921"
             ]
            ],
            "type": "heatmapgl"
           }
          ],
          "histogram": [
           {
            "marker": {
             "colorbar": {
              "outlinewidth": 0,
              "ticks": ""
             }
            },
            "type": "histogram"
           }
          ],
          "histogram2d": [
           {
            "colorbar": {
             "outlinewidth": 0,
             "ticks": ""
            },
            "colorscale": [
             [
              0,
              "#0d0887"
             ],
             [
              0.1111111111111111,
              "#46039f"
             ],
             [
              0.2222222222222222,
              "#7201a8"
             ],
             [
              0.3333333333333333,
              "#9c179e"
             ],
             [
              0.4444444444444444,
              "#bd3786"
             ],
             [
              0.5555555555555556,
              "#d8576b"
             ],
             [
              0.6666666666666666,
              "#ed7953"
             ],
             [
              0.7777777777777778,
              "#fb9f3a"
             ],
             [
              0.8888888888888888,
              "#fdca26"
             ],
             [
              1,
              "#f0f921"
             ]
            ],
            "type": "histogram2d"
           }
          ],
          "histogram2dcontour": [
           {
            "colorbar": {
             "outlinewidth": 0,
             "ticks": ""
            },
            "colorscale": [
             [
              0,
              "#0d0887"
             ],
             [
              0.1111111111111111,
              "#46039f"
             ],
             [
              0.2222222222222222,
              "#7201a8"
             ],
             [
              0.3333333333333333,
              "#9c179e"
             ],
             [
              0.4444444444444444,
              "#bd3786"
             ],
             [
              0.5555555555555556,
              "#d8576b"
             ],
             [
              0.6666666666666666,
              "#ed7953"
             ],
             [
              0.7777777777777778,
              "#fb9f3a"
             ],
             [
              0.8888888888888888,
              "#fdca26"
             ],
             [
              1,
              "#f0f921"
             ]
            ],
            "type": "histogram2dcontour"
           }
          ],
          "mesh3d": [
           {
            "colorbar": {
             "outlinewidth": 0,
             "ticks": ""
            },
            "type": "mesh3d"
           }
          ],
          "parcoords": [
           {
            "line": {
             "colorbar": {
              "outlinewidth": 0,
              "ticks": ""
             }
            },
            "type": "parcoords"
           }
          ],
          "pie": [
           {
            "automargin": true,
            "type": "pie"
           }
          ],
          "scatter": [
           {
            "marker": {
             "colorbar": {
              "outlinewidth": 0,
              "ticks": ""
             }
            },
            "type": "scatter"
           }
          ],
          "scatter3d": [
           {
            "line": {
             "colorbar": {
              "outlinewidth": 0,
              "ticks": ""
             }
            },
            "marker": {
             "colorbar": {
              "outlinewidth": 0,
              "ticks": ""
             }
            },
            "type": "scatter3d"
           }
          ],
          "scattercarpet": [
           {
            "marker": {
             "colorbar": {
              "outlinewidth": 0,
              "ticks": ""
             }
            },
            "type": "scattercarpet"
           }
          ],
          "scattergeo": [
           {
            "marker": {
             "colorbar": {
              "outlinewidth": 0,
              "ticks": ""
             }
            },
            "type": "scattergeo"
           }
          ],
          "scattergl": [
           {
            "marker": {
             "colorbar": {
              "outlinewidth": 0,
              "ticks": ""
             }
            },
            "type": "scattergl"
           }
          ],
          "scattermapbox": [
           {
            "marker": {
             "colorbar": {
              "outlinewidth": 0,
              "ticks": ""
             }
            },
            "type": "scattermapbox"
           }
          ],
          "scatterpolar": [
           {
            "marker": {
             "colorbar": {
              "outlinewidth": 0,
              "ticks": ""
             }
            },
            "type": "scatterpolar"
           }
          ],
          "scatterpolargl": [
           {
            "marker": {
             "colorbar": {
              "outlinewidth": 0,
              "ticks": ""
             }
            },
            "type": "scatterpolargl"
           }
          ],
          "scatterternary": [
           {
            "marker": {
             "colorbar": {
              "outlinewidth": 0,
              "ticks": ""
             }
            },
            "type": "scatterternary"
           }
          ],
          "surface": [
           {
            "colorbar": {
             "outlinewidth": 0,
             "ticks": ""
            },
            "colorscale": [
             [
              0,
              "#0d0887"
             ],
             [
              0.1111111111111111,
              "#46039f"
             ],
             [
              0.2222222222222222,
              "#7201a8"
             ],
             [
              0.3333333333333333,
              "#9c179e"
             ],
             [
              0.4444444444444444,
              "#bd3786"
             ],
             [
              0.5555555555555556,
              "#d8576b"
             ],
             [
              0.6666666666666666,
              "#ed7953"
             ],
             [
              0.7777777777777778,
              "#fb9f3a"
             ],
             [
              0.8888888888888888,
              "#fdca26"
             ],
             [
              1,
              "#f0f921"
             ]
            ],
            "type": "surface"
           }
          ],
          "table": [
           {
            "cells": {
             "fill": {
              "color": "#EBF0F8"
             },
             "line": {
              "color": "white"
             }
            },
            "header": {
             "fill": {
              "color": "#C8D4E3"
             },
             "line": {
              "color": "white"
             }
            },
            "type": "table"
           }
          ]
         },
         "layout": {
          "annotationdefaults": {
           "arrowcolor": "#2a3f5f",
           "arrowhead": 0,
           "arrowwidth": 1
          },
          "coloraxis": {
           "colorbar": {
            "outlinewidth": 0,
            "ticks": ""
           }
          },
          "colorscale": {
           "diverging": [
            [
             0,
             "#8e0152"
            ],
            [
             0.1,
             "#c51b7d"
            ],
            [
             0.2,
             "#de77ae"
            ],
            [
             0.3,
             "#f1b6da"
            ],
            [
             0.4,
             "#fde0ef"
            ],
            [
             0.5,
             "#f7f7f7"
            ],
            [
             0.6,
             "#e6f5d0"
            ],
            [
             0.7,
             "#b8e186"
            ],
            [
             0.8,
             "#7fbc41"
            ],
            [
             0.9,
             "#4d9221"
            ],
            [
             1,
             "#276419"
            ]
           ],
           "sequential": [
            [
             0,
             "#0d0887"
            ],
            [
             0.1111111111111111,
             "#46039f"
            ],
            [
             0.2222222222222222,
             "#7201a8"
            ],
            [
             0.3333333333333333,
             "#9c179e"
            ],
            [
             0.4444444444444444,
             "#bd3786"
            ],
            [
             0.5555555555555556,
             "#d8576b"
            ],
            [
             0.6666666666666666,
             "#ed7953"
            ],
            [
             0.7777777777777778,
             "#fb9f3a"
            ],
            [
             0.8888888888888888,
             "#fdca26"
            ],
            [
             1,
             "#f0f921"
            ]
           ],
           "sequentialminus": [
            [
             0,
             "#0d0887"
            ],
            [
             0.1111111111111111,
             "#46039f"
            ],
            [
             0.2222222222222222,
             "#7201a8"
            ],
            [
             0.3333333333333333,
             "#9c179e"
            ],
            [
             0.4444444444444444,
             "#bd3786"
            ],
            [
             0.5555555555555556,
             "#d8576b"
            ],
            [
             0.6666666666666666,
             "#ed7953"
            ],
            [
             0.7777777777777778,
             "#fb9f3a"
            ],
            [
             0.8888888888888888,
             "#fdca26"
            ],
            [
             1,
             "#f0f921"
            ]
           ]
          },
          "colorway": [
           "#636efa",
           "#EF553B",
           "#00cc96",
           "#ab63fa",
           "#FFA15A",
           "#19d3f3",
           "#FF6692",
           "#B6E880",
           "#FF97FF",
           "#FECB52"
          ],
          "font": {
           "color": "#2a3f5f"
          },
          "geo": {
           "bgcolor": "white",
           "lakecolor": "white",
           "landcolor": "#E5ECF6",
           "showlakes": true,
           "showland": true,
           "subunitcolor": "white"
          },
          "hoverlabel": {
           "align": "left"
          },
          "hovermode": "closest",
          "mapbox": {
           "style": "light"
          },
          "paper_bgcolor": "white",
          "plot_bgcolor": "#E5ECF6",
          "polar": {
           "angularaxis": {
            "gridcolor": "white",
            "linecolor": "white",
            "ticks": ""
           },
           "bgcolor": "#E5ECF6",
           "radialaxis": {
            "gridcolor": "white",
            "linecolor": "white",
            "ticks": ""
           }
          },
          "scene": {
           "xaxis": {
            "backgroundcolor": "#E5ECF6",
            "gridcolor": "white",
            "gridwidth": 2,
            "linecolor": "white",
            "showbackground": true,
            "ticks": "",
            "zerolinecolor": "white"
           },
           "yaxis": {
            "backgroundcolor": "#E5ECF6",
            "gridcolor": "white",
            "gridwidth": 2,
            "linecolor": "white",
            "showbackground": true,
            "ticks": "",
            "zerolinecolor": "white"
           },
           "zaxis": {
            "backgroundcolor": "#E5ECF6",
            "gridcolor": "white",
            "gridwidth": 2,
            "linecolor": "white",
            "showbackground": true,
            "ticks": "",
            "zerolinecolor": "white"
           }
          },
          "shapedefaults": {
           "line": {
            "color": "#2a3f5f"
           }
          },
          "ternary": {
           "aaxis": {
            "gridcolor": "white",
            "linecolor": "white",
            "ticks": ""
           },
           "baxis": {
            "gridcolor": "white",
            "linecolor": "white",
            "ticks": ""
           },
           "bgcolor": "#E5ECF6",
           "caxis": {
            "gridcolor": "white",
            "linecolor": "white",
            "ticks": ""
           }
          },
          "title": {
           "x": 0.05
          },
          "xaxis": {
           "automargin": true,
           "gridcolor": "white",
           "linecolor": "white",
           "ticks": "",
           "title": {
            "standoff": 15
           },
           "zerolinecolor": "white",
           "zerolinewidth": 2
          },
          "yaxis": {
           "automargin": true,
           "gridcolor": "white",
           "linecolor": "white",
           "ticks": "",
           "title": {
            "standoff": 15
           },
           "zerolinecolor": "white",
           "zerolinewidth": 2
          }
         }
        },
        "xaxis": {
         "anchor": "y",
         "domain": [
          0,
          1
         ],
         "title": {
          "text": "country"
         }
        },
        "yaxis": {
         "anchor": "x",
         "domain": [
          0,
          1
         ],
         "title": {
          "text": "sum of average_consumption"
         }
        }
       }
      }
     },
     "metadata": {}
    }
   ],
   "source": [
    "import plotly.express as px\n",
    "fig = px.histogram(avg_df, x=\"country\", y=\"average_consumption\")\n",
    "fig.show()"
   ]
  },
  {
   "cell_type": "code",
   "execution_count": 26,
   "metadata": {},
   "outputs": [
    {
     "output_type": "display_data",
     "data": {
      "application/vnd.plotly.v1+json": {
       "config": {
        "plotlyServerURL": "https://plot.ly"
       },
       "data": [
        {
         "geo": "geo",
         "hovertemplate": "<b>%{hovertext}</b><br><br>average_consumption=%{marker.size}<br>code=%{location}<extra></extra>",
         "hovertext": [
          "australia",
          "canada",
          "japan",
          "mexico",
          "new zealand",
          "turkey",
          "argentina",
          "brazil",
          "chile",
          "china",
          "colombia",
          "egypt",
          "ethiopia",
          "india",
          "indonesia",
          "israel",
          "kazakhstan",
          "malaysia",
          "nigeria",
          "pakistan",
          "paraguay",
          "peru",
          "philippines",
          "russian federation",
          "saudi arabia",
          "south africa",
          "thailand",
          "ukraine",
          "viet nam",
          "norway",
          "switzerland",
          "united kingdom"
         ],
         "legendgroup": "",
         "locations": [
          "AUS",
          "CAN",
          "JPN",
          "MEX",
          "NZL",
          "TUR",
          "ARG",
          "BRA",
          "CHL",
          "CHN",
          "COL",
          "EGY",
          "ETH",
          "IND",
          "IDN",
          "ISR",
          "KAZ",
          "MYS",
          "NGA",
          "PAK",
          "PRY",
          "PER",
          "PHL",
          "RUS",
          "SAU",
          "ZAF",
          "THA",
          "UKR",
          "VNM",
          "NOR",
          "CHE",
          "GBR"
         ],
         "marker": {
          "color": "#636efa",
          "size": [
           16.742471554166,
           17.3695920800645,
           7.47689948111396,
           8.73085238072356,
           11.759486604242198,
           8.74999523369617,
           39.712605573572,
           24.792207683902102,
           19.093535667153002,
           3.8494679350270498,
           10.8864268211505,
           8.300383587860559,
           2.54604013306794,
           0.535302412193296,
           2.0147616551088796,
           20.3328773494632,
           19.7259950174568,
           5.422336914886331,
           1.34571493621286,
           6.490584495203481,
           13.729708241816699,
           4.17620406902685,
           3.14518456506572,
           10.259918878371801,
           4.05439754849769,
           12.6146778451448,
           1.32726127103316,
           5.0328413953979405,
           9.7278010815396,
           13.6085932170103,
           13.171527584744402,
           11.662210300757199
          ],
          "sizemode": "area",
          "sizeref": 0.09928151393392999
         },
         "name": "",
         "showlegend": false,
         "type": "scattergeo"
        }
       ],
       "layout": {
        "geo": {
         "center": {},
         "domain": {
          "x": [
           0,
           1
          ],
          "y": [
           0,
           1
          ]
         },
         "projection": {
          "type": "natural earth"
         }
        },
        "legend": {
         "itemsizing": "constant",
         "tracegroupgap": 0
        },
        "margin": {
         "t": 60
        },
        "template": {
         "data": {
          "bar": [
           {
            "error_x": {
             "color": "#2a3f5f"
            },
            "error_y": {
             "color": "#2a3f5f"
            },
            "marker": {
             "line": {
              "color": "#E5ECF6",
              "width": 0.5
             }
            },
            "type": "bar"
           }
          ],
          "barpolar": [
           {
            "marker": {
             "line": {
              "color": "#E5ECF6",
              "width": 0.5
             }
            },
            "type": "barpolar"
           }
          ],
          "carpet": [
           {
            "aaxis": {
             "endlinecolor": "#2a3f5f",
             "gridcolor": "white",
             "linecolor": "white",
             "minorgridcolor": "white",
             "startlinecolor": "#2a3f5f"
            },
            "baxis": {
             "endlinecolor": "#2a3f5f",
             "gridcolor": "white",
             "linecolor": "white",
             "minorgridcolor": "white",
             "startlinecolor": "#2a3f5f"
            },
            "type": "carpet"
           }
          ],
          "choropleth": [
           {
            "colorbar": {
             "outlinewidth": 0,
             "ticks": ""
            },
            "type": "choropleth"
           }
          ],
          "contour": [
           {
            "colorbar": {
             "outlinewidth": 0,
             "ticks": ""
            },
            "colorscale": [
             [
              0,
              "#0d0887"
             ],
             [
              0.1111111111111111,
              "#46039f"
             ],
             [
              0.2222222222222222,
              "#7201a8"
             ],
             [
              0.3333333333333333,
              "#9c179e"
             ],
             [
              0.4444444444444444,
              "#bd3786"
             ],
             [
              0.5555555555555556,
              "#d8576b"
             ],
             [
              0.6666666666666666,
              "#ed7953"
             ],
             [
              0.7777777777777778,
              "#fb9f3a"
             ],
             [
              0.8888888888888888,
              "#fdca26"
             ],
             [
              1,
              "#f0f921"
             ]
            ],
            "type": "contour"
           }
          ],
          "contourcarpet": [
           {
            "colorbar": {
             "outlinewidth": 0,
             "ticks": ""
            },
            "type": "contourcarpet"
           }
          ],
          "heatmap": [
           {
            "colorbar": {
             "outlinewidth": 0,
             "ticks": ""
            },
            "colorscale": [
             [
              0,
              "#0d0887"
             ],
             [
              0.1111111111111111,
              "#46039f"
             ],
             [
              0.2222222222222222,
              "#7201a8"
             ],
             [
              0.3333333333333333,
              "#9c179e"
             ],
             [
              0.4444444444444444,
              "#bd3786"
             ],
             [
              0.5555555555555556,
              "#d8576b"
             ],
             [
              0.6666666666666666,
              "#ed7953"
             ],
             [
              0.7777777777777778,
              "#fb9f3a"
             ],
             [
              0.8888888888888888,
              "#fdca26"
             ],
             [
              1,
              "#f0f921"
             ]
            ],
            "type": "heatmap"
           }
          ],
          "heatmapgl": [
           {
            "colorbar": {
             "outlinewidth": 0,
             "ticks": ""
            },
            "colorscale": [
             [
              0,
              "#0d0887"
             ],
             [
              0.1111111111111111,
              "#46039f"
             ],
             [
              0.2222222222222222,
              "#7201a8"
             ],
             [
              0.3333333333333333,
              "#9c179e"
             ],
             [
              0.4444444444444444,
              "#bd3786"
             ],
             [
              0.5555555555555556,
              "#d8576b"
             ],
             [
              0.6666666666666666,
              "#ed7953"
             ],
             [
              0.7777777777777778,
              "#fb9f3a"
             ],
             [
              0.8888888888888888,
              "#fdca26"
             ],
             [
              1,
              "#f0f921"
             ]
            ],
            "type": "heatmapgl"
           }
          ],
          "histogram": [
           {
            "marker": {
             "colorbar": {
              "outlinewidth": 0,
              "ticks": ""
             }
            },
            "type": "histogram"
           }
          ],
          "histogram2d": [
           {
            "colorbar": {
             "outlinewidth": 0,
             "ticks": ""
            },
            "colorscale": [
             [
              0,
              "#0d0887"
             ],
             [
              0.1111111111111111,
              "#46039f"
             ],
             [
              0.2222222222222222,
              "#7201a8"
             ],
             [
              0.3333333333333333,
              "#9c179e"
             ],
             [
              0.4444444444444444,
              "#bd3786"
             ],
             [
              0.5555555555555556,
              "#d8576b"
             ],
             [
              0.6666666666666666,
              "#ed7953"
             ],
             [
              0.7777777777777778,
              "#fb9f3a"
             ],
             [
              0.8888888888888888,
              "#fdca26"
             ],
             [
              1,
              "#f0f921"
             ]
            ],
            "type": "histogram2d"
           }
          ],
          "histogram2dcontour": [
           {
            "colorbar": {
             "outlinewidth": 0,
             "ticks": ""
            },
            "colorscale": [
             [
              0,
              "#0d0887"
             ],
             [
              0.1111111111111111,
              "#46039f"
             ],
             [
              0.2222222222222222,
              "#7201a8"
             ],
             [
              0.3333333333333333,
              "#9c179e"
             ],
             [
              0.4444444444444444,
              "#bd3786"
             ],
             [
              0.5555555555555556,
              "#d8576b"
             ],
             [
              0.6666666666666666,
              "#ed7953"
             ],
             [
              0.7777777777777778,
              "#fb9f3a"
             ],
             [
              0.8888888888888888,
              "#fdca26"
             ],
             [
              1,
              "#f0f921"
             ]
            ],
            "type": "histogram2dcontour"
           }
          ],
          "mesh3d": [
           {
            "colorbar": {
             "outlinewidth": 0,
             "ticks": ""
            },
            "type": "mesh3d"
           }
          ],
          "parcoords": [
           {
            "line": {
             "colorbar": {
              "outlinewidth": 0,
              "ticks": ""
             }
            },
            "type": "parcoords"
           }
          ],
          "pie": [
           {
            "automargin": true,
            "type": "pie"
           }
          ],
          "scatter": [
           {
            "marker": {
             "colorbar": {
              "outlinewidth": 0,
              "ticks": ""
             }
            },
            "type": "scatter"
           }
          ],
          "scatter3d": [
           {
            "line": {
             "colorbar": {
              "outlinewidth": 0,
              "ticks": ""
             }
            },
            "marker": {
             "colorbar": {
              "outlinewidth": 0,
              "ticks": ""
             }
            },
            "type": "scatter3d"
           }
          ],
          "scattercarpet": [
           {
            "marker": {
             "colorbar": {
              "outlinewidth": 0,
              "ticks": ""
             }
            },
            "type": "scattercarpet"
           }
          ],
          "scattergeo": [
           {
            "marker": {
             "colorbar": {
              "outlinewidth": 0,
              "ticks": ""
             }
            },
            "type": "scattergeo"
           }
          ],
          "scattergl": [
           {
            "marker": {
             "colorbar": {
              "outlinewidth": 0,
              "ticks": ""
             }
            },
            "type": "scattergl"
           }
          ],
          "scattermapbox": [
           {
            "marker": {
             "colorbar": {
              "outlinewidth": 0,
              "ticks": ""
             }
            },
            "type": "scattermapbox"
           }
          ],
          "scatterpolar": [
           {
            "marker": {
             "colorbar": {
              "outlinewidth": 0,
              "ticks": ""
             }
            },
            "type": "scatterpolar"
           }
          ],
          "scatterpolargl": [
           {
            "marker": {
             "colorbar": {
              "outlinewidth": 0,
              "ticks": ""
             }
            },
            "type": "scatterpolargl"
           }
          ],
          "scatterternary": [
           {
            "marker": {
             "colorbar": {
              "outlinewidth": 0,
              "ticks": ""
             }
            },
            "type": "scatterternary"
           }
          ],
          "surface": [
           {
            "colorbar": {
             "outlinewidth": 0,
             "ticks": ""
            },
            "colorscale": [
             [
              0,
              "#0d0887"
             ],
             [
              0.1111111111111111,
              "#46039f"
             ],
             [
              0.2222222222222222,
              "#7201a8"
             ],
             [
              0.3333333333333333,
              "#9c179e"
             ],
             [
              0.4444444444444444,
              "#bd3786"
             ],
             [
              0.5555555555555556,
              "#d8576b"
             ],
             [
              0.6666666666666666,
              "#ed7953"
             ],
             [
              0.7777777777777778,
              "#fb9f3a"
             ],
             [
              0.8888888888888888,
              "#fdca26"
             ],
             [
              1,
              "#f0f921"
             ]
            ],
            "type": "surface"
           }
          ],
          "table": [
           {
            "cells": {
             "fill": {
              "color": "#EBF0F8"
             },
             "line": {
              "color": "white"
             }
            },
            "header": {
             "fill": {
              "color": "#C8D4E3"
             },
             "line": {
              "color": "white"
             }
            },
            "type": "table"
           }
          ]
         },
         "layout": {
          "annotationdefaults": {
           "arrowcolor": "#2a3f5f",
           "arrowhead": 0,
           "arrowwidth": 1
          },
          "coloraxis": {
           "colorbar": {
            "outlinewidth": 0,
            "ticks": ""
           }
          },
          "colorscale": {
           "diverging": [
            [
             0,
             "#8e0152"
            ],
            [
             0.1,
             "#c51b7d"
            ],
            [
             0.2,
             "#de77ae"
            ],
            [
             0.3,
             "#f1b6da"
            ],
            [
             0.4,
             "#fde0ef"
            ],
            [
             0.5,
             "#f7f7f7"
            ],
            [
             0.6,
             "#e6f5d0"
            ],
            [
             0.7,
             "#b8e186"
            ],
            [
             0.8,
             "#7fbc41"
            ],
            [
             0.9,
             "#4d9221"
            ],
            [
             1,
             "#276419"
            ]
           ],
           "sequential": [
            [
             0,
             "#0d0887"
            ],
            [
             0.1111111111111111,
             "#46039f"
            ],
            [
             0.2222222222222222,
             "#7201a8"
            ],
            [
             0.3333333333333333,
             "#9c179e"
            ],
            [
             0.4444444444444444,
             "#bd3786"
            ],
            [
             0.5555555555555556,
             "#d8576b"
            ],
            [
             0.6666666666666666,
             "#ed7953"
            ],
            [
             0.7777777777777778,
             "#fb9f3a"
            ],
            [
             0.8888888888888888,
             "#fdca26"
            ],
            [
             1,
             "#f0f921"
            ]
           ],
           "sequentialminus": [
            [
             0,
             "#0d0887"
            ],
            [
             0.1111111111111111,
             "#46039f"
            ],
            [
             0.2222222222222222,
             "#7201a8"
            ],
            [
             0.3333333333333333,
             "#9c179e"
            ],
            [
             0.4444444444444444,
             "#bd3786"
            ],
            [
             0.5555555555555556,
             "#d8576b"
            ],
            [
             0.6666666666666666,
             "#ed7953"
            ],
            [
             0.7777777777777778,
             "#fb9f3a"
            ],
            [
             0.8888888888888888,
             "#fdca26"
            ],
            [
             1,
             "#f0f921"
            ]
           ]
          },
          "colorway": [
           "#636efa",
           "#EF553B",
           "#00cc96",
           "#ab63fa",
           "#FFA15A",
           "#19d3f3",
           "#FF6692",
           "#B6E880",
           "#FF97FF",
           "#FECB52"
          ],
          "font": {
           "color": "#2a3f5f"
          },
          "geo": {
           "bgcolor": "white",
           "lakecolor": "white",
           "landcolor": "#E5ECF6",
           "showlakes": true,
           "showland": true,
           "subunitcolor": "white"
          },
          "hoverlabel": {
           "align": "left"
          },
          "hovermode": "closest",
          "mapbox": {
           "style": "light"
          },
          "paper_bgcolor": "white",
          "plot_bgcolor": "#E5ECF6",
          "polar": {
           "angularaxis": {
            "gridcolor": "white",
            "linecolor": "white",
            "ticks": ""
           },
           "bgcolor": "#E5ECF6",
           "radialaxis": {
            "gridcolor": "white",
            "linecolor": "white",
            "ticks": ""
           }
          },
          "scene": {
           "xaxis": {
            "backgroundcolor": "#E5ECF6",
            "gridcolor": "white",
            "gridwidth": 2,
            "linecolor": "white",
            "showbackground": true,
            "ticks": "",
            "zerolinecolor": "white"
           },
           "yaxis": {
            "backgroundcolor": "#E5ECF6",
            "gridcolor": "white",
            "gridwidth": 2,
            "linecolor": "white",
            "showbackground": true,
            "ticks": "",
            "zerolinecolor": "white"
           },
           "zaxis": {
            "backgroundcolor": "#E5ECF6",
            "gridcolor": "white",
            "gridwidth": 2,
            "linecolor": "white",
            "showbackground": true,
            "ticks": "",
            "zerolinecolor": "white"
           }
          },
          "shapedefaults": {
           "line": {
            "color": "#2a3f5f"
           }
          },
          "ternary": {
           "aaxis": {
            "gridcolor": "white",
            "linecolor": "white",
            "ticks": ""
           },
           "baxis": {
            "gridcolor": "white",
            "linecolor": "white",
            "ticks": ""
           },
           "bgcolor": "#E5ECF6",
           "caxis": {
            "gridcolor": "white",
            "linecolor": "white",
            "ticks": ""
           }
          },
          "title": {
           "x": 0.05
          },
          "xaxis": {
           "automargin": true,
           "gridcolor": "white",
           "linecolor": "white",
           "ticks": "",
           "title": {
            "standoff": 15
           },
           "zerolinecolor": "white",
           "zerolinewidth": 2
          },
          "yaxis": {
           "automargin": true,
           "gridcolor": "white",
           "linecolor": "white",
           "ticks": "",
           "title": {
            "standoff": 15
           },
           "zerolinecolor": "white",
           "zerolinewidth": 2
          }
         }
        }
       }
      }
     },
     "metadata": {}
    }
   ],
   "source": [
    "fig = px.scatter_geo(avg_df, locations=\"code\",\n",
    "                     hover_name=\"country\", size=\"average_consumption\",\n",
    "                     projection=\"natural earth\")\n",
    "fig.show()"
   ]
  },
  {
   "cell_type": "code",
   "execution_count": null,
   "metadata": {},
   "outputs": [],
   "source": []
  }
 ],
 "metadata": {
  "kernelspec": {
   "display_name": "Python 3.7.4 64-bit ('base': conda)",
   "language": "python",
   "name": "python37464bitbaseconda9de9e92c0c934fa599d99a4bd097821d"
  },
  "language_info": {
   "codemirror_mode": {
    "name": "ipython",
    "version": 3
   },
   "file_extension": ".py",
   "mimetype": "text/x-python",
   "name": "python",
   "nbconvert_exporter": "python",
   "pygments_lexer": "ipython3",
   "version": "3.7.4-final"
  }
 },
 "nbformat": 4,
 "nbformat_minor": 2
}